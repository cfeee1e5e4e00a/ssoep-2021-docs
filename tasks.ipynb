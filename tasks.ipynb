{
    "cells": [
        {
            "cell_type": "markdown",
            "source": [
                "# Прямоугольник\n",
                "нарисуйте прямоугольник с длиннами сторон n x m, используя циклы\n",
                "```\n",
                "#####\n",
                "#   #\n",
                "#   #\n",
                "#   #\n",
                "#####\n",
                "```"
            ],
            "metadata": {}
        },
        {
            "cell_type": "markdown",
            "source": [
                "# Елочка\n",
                "нарисуйте елочку с высотой h, используя циклы\n",
                "```\n",
                "   #\n",
                "  ###\n",
                " #####\n",
                "#######\n",
                "   #\n",
                "```"
            ],
            "metadata": {}
        },
        {
            "cell_type": "markdown",
            "source": [
                "# Числа Фиббоначи\n",
                "выведите первые n ряда чисел Фиббоначи\n",
                "\n",
                "P.S: каждое следущее число явлется суммой двух предыдущих чисел"
            ],
            "metadata": {}
        },
        {
            "cell_type": "markdown",
            "source": [
                "# Треугольник Паскаля\n",
                "выведите n треугольника Паскаля\n",
                "\n",
                "P.S:\n",
                "```\n",
                "[1]\n",
                "[1, 1]\n",
                "[1, 2, 1]\n",
                "[1, 3, 3, 1]\n",
                "[1, 4, 6, 4, 1]\n",
                "[1, 5, 10, 10, 5, 1]\n",
                "...\n",
                "```"
            ],
            "metadata": {}
        },
        {
            "cell_type": "markdown",
            "source": [
                "# Палиндром\n",
                "проверьте, является ли строка палиндромом?\n",
                "\n",
                "P.S: палиндром - слово, которое одинаково пишется в прямом и обратном порядке"
            ],
            "metadata": {}
        },
        {
            "cell_type": "markdown",
            "source": [
                "# Уникальные числа\n",
                "проверьте, все ли числа в массиве уникальные\n"
            ],
            "metadata": {}
        },
        {
            "cell_type": "markdown",
            "source": [],
            "metadata": {}
        }
    ],
    "metadata": {
        "orig_nbformat": 4,
        "language_info": {
            "name": "python",
            "version": "3.9.6",
            "mimetype": "text/x-python",
            "codemirror_mode": {
                "name": "ipython",
                "version": 3
            },
            "pygments_lexer": "ipython3",
            "nbconvert_exporter": "python",
            "file_extension": ".py"
        },
        "kernelspec": {
            "name": "python3",
            "display_name": "Python 3.9.6 64-bit"
        },
        "interpreter": {
            "hash": "b0fa6594d8f4cbf19f97940f81e996739fb7646882a419484c72d19e05852a7e"
        }
    },
    "nbformat": 4,
    "nbformat_minor": 2
}
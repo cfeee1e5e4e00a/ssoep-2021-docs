{
    "cells": [
        {
            "cell_type": "markdown",
            "source": [
                "# Язык программирования Python"
            ],
            "metadata": {}
        },
        {
            "cell_type": "markdown",
            "source": [
                "### Привет мир!"
            ],
            "metadata": {}
        },
        {
            "cell_type": "code",
            "execution_count": null,
            "source": [
                "print('привет мир!')"
            ],
            "outputs": [],
            "metadata": {}
        },
        {
            "cell_type": "markdown",
            "source": [
                "### Переменные и типы"
            ],
            "metadata": {}
        },
        {
            "cell_type": "code",
            "execution_count": null,
            "source": [
                "# переменные можно писать после знака решетки\n",
                "\n",
                "a = 1 # целочисленный тип\n",
                "greeting = 'hello' # строковый тип\n",
                "pi = 3.14 # тип числа с плавающей запятой\n",
                "is_we_hungry = True # булевый тип"
            ],
            "outputs": [],
            "metadata": {}
        },
        {
            "source": [
                "### Взаимодействие с внешним миром"
            ],
            "cell_type": "markdown",
            "metadata": {}
        },
        {
            "cell_type": "code",
            "execution_count": null,
            "metadata": {},
            "outputs": [],
            "source": [
                "a = input()\n",
                "print(a)"
            ]
        },
        {
            "source": [
                "### Арифметические операторы"
            ],
            "cell_type": "markdown",
            "metadata": {}
        },
        {
            "cell_type": "code",
            "execution_count": null,
            "source": [
                "2 + 2 # = 4 сложение\n",
                "4 - 2 # = 2 вычитание\n",
                "6 * 2 # = 12 умножение\n",
                "3 / 4 # = 3.75 деление\n",
                "2 ** 3 # = 8 возвдение в степень\n",
                "4 // 3 # = 1 деление без остатка\n",
                "10 % 3 # = 1 деление по модулю (остаток от деления)\n",
                "4 % 3 # = 1\n",
                "10.5 % 3 # = 1.5"
            ],
            "outputs": [],
            "metadata": {}
        },
        {
            "cell_type": "markdown",
            "source": [
                "### Операторы присваивания"
            ],
            "metadata": {}
        },
        {
            "cell_type": "code",
            "execution_count": null,
            "source": [
                "a = 1\n",
                "\n",
                "a += 5 # = 6\n",
                "a -= 3 # = 3\n",
                "a /= 3 # = 1.0\n",
                "a *= 8 # = 8.0\n",
                "a %= 3 # = 2.0\n",
                "a **= 3 # = 8.0\n",
                "a //= 3 # 8.0"
            ],
            "outputs": [],
            "metadata": {}
        },
        {
            "cell_type": "markdown",
            "source": [
                "### Конструкция if"
            ],
            "metadata": {}
        },
        {
            "cell_type": "code",
            "execution_count": null,
            "source": [
                "is_cat_black = True\n",
                "\n",
                "if (is_cat_black):\n",
                "  print('Cat is black')"
            ],
            "outputs": [],
            "metadata": {}
        },
        {
            "cell_type": "markdown",
            "source": [
                "### Конструкция if-else"
            ],
            "metadata": {}
        },
        {
            "cell_type": "code",
            "execution_count": null,
            "source": [
                "is_cat_black = True\n",
                "\n",
                "if (is_cat_black):\n",
                "  print('Cat is black')\n",
                "else:\n",
                "  print('Cat isn`t black')"
            ],
            "outputs": [],
            "metadata": {}
        },
        {
            "cell_type": "markdown",
            "source": [
                "### Операторы сравнения"
            ],
            "metadata": {}
        },
        {
            "cell_type": "code",
            "execution_count": null,
            "source": [
                "4 < 3 # = False больше\n",
                "4 > 3 # = True меньше\n",
                "4 <= 3 # = False меньше или равно\n",
                "4 >= 3 # = True больше или равно\n",
                "3 == 3 # = True сравнение ( a равно b )\n",
                "3 != 4 # = True инвертированое сравнение ( a не равно b )"
            ],
            "outputs": [],
            "metadata": {}
        },
        {
            "cell_type": "markdown",
            "source": [
                "### Логические операторы"
            ],
            "metadata": {}
        },
        {
            "cell_type": "code",
            "execution_count": null,
            "source": [
                "True and True # = True И - коньюкция\n",
                "True or False # = False ИЛИ = дизьюнкция\n",
                "not True # = False НЕ - инвертирование"
            ],
            "outputs": [],
            "metadata": {}
        },
        {
            "cell_type": "markdown",
            "source": [
                "### Конструция if-elif-else"
            ],
            "metadata": {}
        },
        {
            "cell_type": "code",
            "execution_count": null,
            "source": [
                "cat_color = 'black'\n",
                "\n",
                "if (cat_color == 'black'):\n",
                "  print('Cat is black')\n",
                "elif (cat_color == 'brown'):\n",
                "  print('Cat is brown')\n",
                "else:\n",
                "  print('So strange cat!?')"
            ],
            "outputs": [],
            "metadata": {}
        },
        {
            "cell_type": "markdown",
            "source": [
                "### Цикл while"
            ],
            "metadata": {}
        },
        {
            "cell_type": "code",
            "execution_count": null,
            "metadata": {},
            "outputs": [],
            "source": [
                "i = 0\n",
                "\n",
                "while i < 10:\n",
                "    i += 1\n",
                "\n",
                "print(i) # 10"
            ]
        },
        {
            "cell_type": "markdown",
            "source": [
                "### Массивы"
            ],
            "metadata": {}
        },
        {
            "cell_type": "code",
            "execution_count": null,
            "metadata": {},
            "outputs": [],
            "source": [
                "a = [1, 2, 3] # обьявление массива\n",
                "\n",
                "a[i] # обращение к элементу i массива a\n",
                "len(a) # длина массива а\n",
                "a.append(i) # добавить в конец массива а новый элемент i\n",
                "i = a.pop() # удаляет последний элемент массива, длина массива становится меньше на 1, удаленный элемент i возвращается\n",
                "a[i:j] # \"срез\". возвращает массив, состоящий из элементов оригинального массива с i по j элемент\n",
                "a.clear() # удаляет все элементы массива\n",
                "a.reverse() # разворачивает массив\n",
                "a.sort() # сортирует массив\n",
                "\n",
                "*a # *a -> 0, 1, 2 распаковка массива"
            ]
        },
        {
            "cell_type": "code",
            "execution_count": null,
            "metadata": {},
            "outputs": [],
            "source": [
                "top_10_numbers = [10, 9, 8, 7, 6, 5, 4, 3, 2, 1]\n",
                "\n",
                "top_10_numbers[0] # 10\n",
                "top_10_numbers[2] + top_10_numbers[3] # 15\n",
                "top_10_numbers[10] # IndexError: list index out of range"
            ]
        },
        {
            "cell_type": "code",
            "execution_count": null,
            "metadata": {},
            "outputs": [],
            "source": [
                "my_cats = ['барсик', 'персик', 'пушок']\n",
                "\n",
                "cat = my_cats[0] # 'барсик'\n",
                "cat[2] # 'р'"
            ]
        },
        {
            "source": [
                "### Кортежи"
            ],
            "cell_type": "markdown",
            "metadata": {}
        },
        {
            "cell_type": "code",
            "execution_count": null,
            "metadata": {},
            "outputs": [],
            "source": [
                "my_tuple = (0, 1, 2)\n",
                "\n",
                "*my_tuple # *my_tuple -> 0, 1, 2 распаковка кортежа"
            ]
        },
        {
            "source": [
                "### Цикл for"
            ],
            "cell_type": "markdown",
            "metadata": {}
        },
        {
            "cell_type": "code",
            "execution_count": null,
            "metadata": {},
            "outputs": [],
            "source": [
                "a = [1, 2, 3, 4]\n",
                "for i in a:\n",
                "    print(i)"
            ]
        },
        {
            "source": [
                "### Приведение типов"
            ],
            "cell_type": "markdown",
            "metadata": {}
        },
        {
            "cell_type": "code",
            "execution_count": null,
            "metadata": {},
            "outputs": [],
            "source": [
                "str(123) # '123'\n",
                "int('123') # 123\n",
                "float('123') # 123.0\n",
                "float(123) # 123.0\n"
            ]
        },
        {
            "source": [
                "### Строки"
            ],
            "cell_type": "markdown",
            "metadata": {}
        },
        {
            "cell_type": "code",
            "execution_count": null,
            "metadata": {},
            "outputs": [],
            "source": [
                "s1 = 'Hello'\n",
                "s2 = 'world'\n",
                "\n",
                "s1 + s2 # 'Helloworld'\n",
                "s1 * 2 # 'HelloHello'\n",
                "len(s1) # 5\n",
                "s1[1] # 'e'\n",
                "s1[1:3] # 'ell'\n",
                "\n",
                "s1.upper() # 'HELLO'\n",
                "s1.lower() # 'hello'\n",
                "\n",
                "s3 = 'hi my name is ilya'\n",
                "s3.split(' ') # ['hi', 'my', 'name', 'is', 'ilya']\n"
            ]
        },
        {
            "source": [
                "### Функции"
            ],
            "cell_type": "markdown",
            "metadata": {}
        },
        {
            "cell_type": "code",
            "execution_count": null,
            "metadata": {},
            "outputs": [],
            "source": [
                "def my_mul(a: int, b: int) -> int:\n",
                "    return a * b\n",
                "\n",
                "my_mul(2, 4) # 8"
            ]
        },
        {
            "source": [
                "### Завершение программы с помощью control + c"
            ],
            "cell_type": "markdown",
            "metadata": {}
        },
        {
            "cell_type": "code",
            "execution_count": null,
            "metadata": {},
            "outputs": [],
            "source": [
                "import signal\n",
                "\n",
                "def quit(_, __):\n",
                "  print('quiting..')\n",
                "  exit(0)\n",
                "\n",
                "signal.signal(signal.SIGINT, quit)"
            ]
        },
        {
            "source": [
                "### Цвет в компьютере\n",
                "\n",
                "Существуют различные модели задания цвета, в том числе Red Green Blue и Hue Saturation Value\n",
                "\n",
                "от англ. Красный Зеленый Синий и Тон Насыщенность Значение\n",
                "\n",
                "![Цветовая модель](./colormodel.jpeg)"
            ],
            "cell_type": "markdown",
            "metadata": {}
        },
        {
            "cell_type": "code",
            "execution_count": 4,
            "metadata": {},
            "outputs": [
                {
                    "output_type": "stream",
                    "name": "stdout",
                    "text": [
                        "(0.8893229166666666, 0.5019607843137255, 255)\n(255, 127.0, 211.99999999999997)\n"
                    ]
                }
            ],
            "source": [
                "import colorsys\n",
                "\n",
                "rgb = (215, 127, 12\n",
                ")\n",
                "hsv = colorsys.rgb_to_hsv(*rgb)\n",
                "rgb = colorsys.hsv_to_rgb(*hsv)\n",
                "\n",
                "print(hsv)\n",
                "print(rgb)"
            ]
        },
        {
            "source": [
                "### Взаимодействие с лампой"
            ],
            "cell_type": "markdown",
            "metadata": {}
        },
        {
            "cell_type": "code",
            "execution_count": null,
            "metadata": {},
            "outputs": [],
            "source": [
                "import neopixel\n",
                "import board\n",
                "\n",
                "rings = 8\n",
                "pixels_in_ring = 7\n",
                "\n",
                "pixels = neopixel.NeoPixel(board.D18, pixels_in_ring * rings, auto_write=False)\n",
                "\n",
                "pixels[<номер светодиода от 0 до len(pixels) - 1>] = (<красный>, <зеленый>, <синий>)\n",
                "\n",
                "pixels.show()"
            ]
        },
        {
            "source": [
                "### Взаимодействие с датчиком дыхания"
            ],
            "cell_type": "markdown",
            "metadata": {}
        },
        {
            "cell_type": "code",
            "execution_count": null,
            "metadata": {},
            "outputs": [],
            "source": [
                "from unior.connection import Connection\n",
                "\n",
                "conn = Connection(<мак адрес датчика>)\n",
                "\n",
                "# sudo bluetoothctl power on\n",
                "# bluetoothctl\n",
                "# scan on\n",
                "\n",
                "print(conn.value)\n",
                "\n",
                "conn.disconnect()"
            ]
        }
    ],
    "metadata": {
        "orig_nbformat": 4,
        "language_info": {
            "name": "python",
            "version": "3.9.6",
            "mimetype": "text/x-python",
            "codemirror_mode": {
                "name": "ipython",
                "version": 3
            },
            "pygments_lexer": "ipython3",
            "nbconvert_exporter": "python",
            "file_extension": ".py"
        },
        "kernelspec": {
            "name": "python3",
            "display_name": "Python 3.9.6 64-bit"
        },
        "interpreter": {
            "hash": "b0fa6594d8f4cbf19f97940f81e996739fb7646882a419484c72d19e05852a7e"
        }
    },
    "nbformat": 4,
    "nbformat_minor": 2
}
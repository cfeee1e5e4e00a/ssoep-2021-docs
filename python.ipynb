{
    "cells": [
        {
            "cell_type": "markdown",
            "source": [
                "# Язык программирования Python"
            ],
            "metadata": {}
        },
        {
            "cell_type": "markdown",
            "source": [
                "### Привет мир!"
            ],
            "metadata": {}
        },
        {
            "cell_type": "code",
            "execution_count": null,
            "source": [
                "print('привет мир!')"
            ],
            "outputs": [],
            "metadata": {}
        },
        {
            "cell_type": "markdown",
            "source": [
                "### Переменные и типы"
            ],
            "metadata": {}
        },
        {
            "cell_type": "code",
            "execution_count": null,
            "source": [
                "# переменные можно писать после знака решетки\n",
                "\n",
                "a = 1 # целочисленный тип\n",
                "greeting = 'hello' # строковый тип\n",
                "pi = 3.14 # тип числа с плавающей запятой\n",
                "is_we_hungry = True # булевый тип"
            ],
            "outputs": [],
            "metadata": {}
        },
        {
            "cell_type": "markdown",
            "source": [
                "### Арифметические операторы"
            ],
            "metadata": {}
        },
        {
            "cell_type": "code",
            "execution_count": null,
            "source": [
                "2 + 2 # = 4 сложение\n",
                "4 - 2 # = 2 вычитание\n",
                "6 * 2 # = 12 умножение\n",
                "3 / 4 # = 3.75 деление\n",
                "2 ** 3 # = 8 возвдение в степень\n",
                "4 // 3 # = 1 деление без остатка\n",
                "10 % 3 # = 1 деление по модулю (остаток от деления)\n",
                "4 % 3 # = 1\n",
                "10.5 % 3 # = 1.5"
            ],
            "outputs": [],
            "metadata": {}
        },
        {
            "cell_type": "markdown",
            "source": [
                "### Операторы присваивания"
            ],
            "metadata": {}
        },
        {
            "cell_type": "code",
            "execution_count": null,
            "source": [
                "a = 1\n",
                "\n",
                "a += 5 # = 6\n",
                "a -= 3 # = 3\n",
                "a /= 3 # = 1.0\n",
                "a *= 8 # = 8.0\n",
                "a %= 3 # = 2.0\n",
                "a **= 3 # = 8.0\n",
                "a //= 3 # 8.0"
            ],
            "outputs": [],
            "metadata": {}
        },
        {
            "cell_type": "markdown",
            "source": [
                "### Конструкция if"
            ],
            "metadata": {}
        },
        {
            "cell_type": "code",
            "execution_count": null,
            "source": [
                "is_cat_black = True\n",
                "\n",
                "if (is_cat_black):\n",
                "  print('Cat is black')"
            ],
            "outputs": [],
            "metadata": {}
        },
        {
            "cell_type": "markdown",
            "source": [
                "### Конструкция if-else"
            ],
            "metadata": {}
        },
        {
            "cell_type": "code",
            "execution_count": null,
            "source": [
                "is_cat_black = True\n",
                "\n",
                "if (is_cat_black):\n",
                "  print('Cat is black')\n",
                "else:\n",
                "  print('Cat isn`t black')"
            ],
            "outputs": [],
            "metadata": {}
        },
        {
            "cell_type": "markdown",
            "source": [
                "### Операторы сравнения"
            ],
            "metadata": {}
        },
        {
            "cell_type": "code",
            "execution_count": null,
            "source": [
                "4 < 3 # = False больше\n",
                "4 > 3 # = True меньше\n",
                "4 <= 3 # = False меньше или равно\n",
                "4 >= 3 # = True больше или равно\n",
                "3 == 3 # = True сравнение ( a равно b )\n",
                "3 != 4 # = True инвертированое сравнение ( a не равно b )"
            ],
            "outputs": [],
            "metadata": {}
        },
        {
            "cell_type": "markdown",
            "source": [
                "### Логические операторы"
            ],
            "metadata": {}
        },
        {
            "cell_type": "code",
            "execution_count": null,
            "source": [
                "True and True # = True И - коньюкция\n",
                "True or False # = False ИЛИ = дизьюнкция\n",
                "not True # = False НЕ - инвертирование"
            ],
            "outputs": [],
            "metadata": {}
        },
        {
            "cell_type": "markdown",
            "source": [
                "### Конструция if-elif-else"
            ],
            "metadata": {}
        },
        {
            "cell_type": "code",
            "execution_count": null,
            "source": [
                "cat_color = 'black'\n",
                "\n",
                "if (cat_color == 'black'):\n",
                "  print('Cat is black')\n",
                "elif (cat_color == 'brown'):\n",
                "  print('Cat is brown')\n",
                "else:\n",
                "  print('So strange cat!?')"
            ],
            "outputs": [],
            "metadata": {}
        },
        {
            "cell_type": "markdown",
            "source": [
                "### Цикл while"
            ],
            "metadata": {}
        },
        {
            "cell_type": "markdown",
            "source": [
                "### Массивы"
            ],
            "metadata": {}
        },
        {
            "cell_type": "markdown",
            "source": [
                "### Операторы принадлежности"
            ],
            "metadata": {}
        },
        {
            "cell_type": "markdown",
            "source": [
                "### Цикл for"
            ],
            "metadata": {}
        },
        {
            "cell_type": "markdown",
            "source": [
                "### Бинарные операторы"
            ],
            "metadata": {}
        }
    ],
    "metadata": {
        "orig_nbformat": 4,
        "language_info": {
            "name": "python",
            "version": "3.8.5",
            "mimetype": "text/x-python",
            "codemirror_mode": {
                "name": "ipython",
                "version": 3
            },
            "pygments_lexer": "ipython3",
            "nbconvert_exporter": "python",
            "file_extension": ".py"
        },
        "kernelspec": {
            "name": "python3",
            "display_name": "Python 3.8.5 64-bit"
        },
        "interpreter": {
            "hash": "916dbcbb3f70747c44a77c7bcd40155683ae19c65e1c03b4aa3499c5328201f1"
        }
    },
    "nbformat": 4,
    "nbformat_minor": 2
}
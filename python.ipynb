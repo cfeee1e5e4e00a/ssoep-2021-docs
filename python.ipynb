{
    "cells": [
        {
            "cell_type": "markdown",
            "source": [
                "# Биологическая обратная связь"
            ],
            "metadata": {}
        },
        {
            "cell_type": "markdown",
            "source": [
                "![](./bio1.png)\n",
                "![](./bio2.png)\n",
                "![](./bio3.png)\n",
                "![](./bio4.png)\n",
                "![](./bio5.png)\n",
                "![](./bio6.png)\n",
                "![](./bio7.png)\n",
                "![](./bio8.png)"
            ],
            "metadata": {}
        },
        {
            "cell_type": "markdown",
            "source": [
                "# Язык программирования Python"
            ],
            "metadata": {}
        },
        {
            "cell_type": "markdown",
            "source": [
                "# Привет мир!"
            ],
            "metadata": {}
        },
        {
            "cell_type": "code",
            "execution_count": 15,
            "source": [
                "print('привет мир!')"
            ],
            "outputs": [
                {
                    "output_type": "stream",
                    "name": "stdout",
                    "text": [
                        "привет мир!\n"
                    ]
                }
            ],
            "metadata": {}
        },
        {
            "cell_type": "markdown",
            "source": [
                "# Переменные и типы"
            ],
            "metadata": {}
        },
        {
            "cell_type": "code",
            "execution_count": 16,
            "source": [
                "# переменные можно писать после знака решетки\n",
                "\n",
                "a = 1 # целочисленный тип\n",
                "greeting = 'hello' # строковый тип\n",
                "pi = 3.14 # тип числа с плавающей запятой\n",
                "is_we_hungry = True # булевый тип"
            ],
            "outputs": [],
            "metadata": {}
        },
        {
            "cell_type": "markdown",
            "source": [
                "# Арифметические операторы"
            ],
            "metadata": {}
        },
        {
            "cell_type": "code",
            "execution_count": 17,
            "source": [
                "2 + 2 # = 4 сложение\n",
                "4 - 2 # = 2 вычитание\n",
                "6 * 2 # = 12 умножение\n",
                "3 / 4 # = 3.75 деление\n",
                "2 ** 3 # = 8 возвдение в степень\n",
                "4 // 3 # = 1 деление без остатка\n",
                "10 % 3 # = 1 деление по модулю (остаток от деления)\n",
                "4 % 3 # = 1\n",
                "10.5 % 3 # = 1.5"
            ],
            "outputs": [
                {
                    "output_type": "execute_result",
                    "data": {
                        "text/plain": [
                            "1.5"
                        ]
                    },
                    "metadata": {},
                    "execution_count": 17
                }
            ],
            "metadata": {}
        },
        {
            "cell_type": "markdown",
            "source": [
                "# Операторы присваивания"
            ],
            "metadata": {}
        },
        {
            "cell_type": "code",
            "execution_count": 18,
            "source": [
                "a = 1\n",
                "\n",
                "a += 5 # = 6\n",
                "a -= 3 # = 3\n",
                "a /= 3 # = 1.0\n",
                "a *= 8 # = 8.0\n",
                "a %= 3 # = 2.0\n",
                "a **= 3 # = 8.0\n",
                "a //= 3 # 8.0"
            ],
            "outputs": [],
            "metadata": {}
        },
        {
            "cell_type": "markdown",
            "source": [
                "# Взаимодействие с внешним миром"
            ],
            "metadata": {}
        },
        {
            "cell_type": "code",
            "execution_count": 19,
            "source": [
                "a = input()\n",
                "print(a)"
            ],
            "outputs": [
                {
                    "output_type": "stream",
                    "name": "stdout",
                    "text": [
                        "\n"
                    ]
                }
            ],
            "metadata": {}
        },
        {
            "cell_type": "markdown",
            "source": [
                "# Квадратное уравнение\n",
                "напишите программу, которая будет решать линейное квадратное уравнение вида ax^2 + bx + c = 0"
            ],
            "metadata": {}
        },
        {
            "cell_type": "markdown",
            "source": [
                "# Конструкция if"
            ],
            "metadata": {}
        },
        {
            "cell_type": "code",
            "execution_count": 20,
            "source": [
                "is_cat_black = True\n",
                "\n",
                "if (is_cat_black):\n",
                "  print('Cat is black')"
            ],
            "outputs": [
                {
                    "output_type": "stream",
                    "name": "stdout",
                    "text": [
                        "Cat is black\n"
                    ]
                }
            ],
            "metadata": {}
        },
        {
            "cell_type": "markdown",
            "source": [
                "# Конструкция if-else"
            ],
            "metadata": {}
        },
        {
            "cell_type": "code",
            "execution_count": 21,
            "source": [
                "is_cat_black = True\n",
                "\n",
                "if (is_cat_black):\n",
                "  print('Cat is black')\n",
                "else:\n",
                "  print('Cat isn`t black')"
            ],
            "outputs": [
                {
                    "output_type": "stream",
                    "name": "stdout",
                    "text": [
                        "Cat is black\n"
                    ]
                }
            ],
            "metadata": {}
        },
        {
            "cell_type": "markdown",
            "source": [
                "# Мой первый калькулятор\n",
                "введите два числа и символ математической операции и выведите результат\n",
                "\n",
                "пример:\n",
                "\n",
                "2 5 +\n",
                "\n",
                "7"
            ],
            "metadata": {}
        },
        {
            "cell_type": "markdown",
            "source": [
                "# Операторы сравнения"
            ],
            "metadata": {}
        },
        {
            "cell_type": "code",
            "execution_count": 22,
            "source": [
                "4 < 3 # = False больше\n",
                "4 > 3 # = True меньше\n",
                "4 <= 3 # = False меньше или равно\n",
                "4 >= 3 # = True больше или равно\n",
                "3 == 3 # = True сравнение ( a равно b )\n",
                "3 != 4 # = True инвертированое сравнение ( a не равно b )"
            ],
            "outputs": [
                {
                    "output_type": "execute_result",
                    "data": {
                        "text/plain": [
                            "True"
                        ]
                    },
                    "metadata": {},
                    "execution_count": 22
                }
            ],
            "metadata": {}
        },
        {
            "cell_type": "markdown",
            "source": [
                "# Логические операторы"
            ],
            "metadata": {}
        },
        {
            "cell_type": "code",
            "execution_count": 23,
            "source": [
                "True and True # = True И - коньюкция\n",
                "True or False # = False ИЛИ = дизьюнкция\n",
                "not True # = False НЕ - инвертирование"
            ],
            "outputs": [
                {
                    "output_type": "execute_result",
                    "data": {
                        "text/plain": [
                            "False"
                        ]
                    },
                    "metadata": {},
                    "execution_count": 23
                }
            ],
            "metadata": {}
        },
        {
            "cell_type": "markdown",
            "source": [
                "# Конструция if-elif-else"
            ],
            "metadata": {}
        },
        {
            "cell_type": "code",
            "execution_count": 24,
            "source": [
                "cat_color = 'black'\n",
                "\n",
                "if (cat_color == 'black'):\n",
                "  print('Cat is black')\n",
                "elif (cat_color == 'brown'):\n",
                "  print('Cat is brown')\n",
                "else:\n",
                "  print('So strange cat!?')"
            ],
            "outputs": [
                {
                    "output_type": "stream",
                    "name": "stdout",
                    "text": [
                        "Cat is black\n"
                    ]
                }
            ],
            "metadata": {}
        },
        {
            "cell_type": "markdown",
            "source": [
                "# Цикл while"
            ],
            "metadata": {}
        },
        {
            "cell_type": "code",
            "execution_count": 25,
            "source": [
                "i = 0\n",
                "\n",
                "while i < 10:\n",
                "    i += 1\n",
                "\n",
                "print(i) # 10"
            ],
            "outputs": [
                {
                    "output_type": "stream",
                    "name": "stdout",
                    "text": [
                        "10\n"
                    ]
                }
            ],
            "metadata": {}
        },
        {
            "cell_type": "markdown",
            "source": [
                "# Массивы"
            ],
            "metadata": {}
        },
        {
            "cell_type": "code",
            "execution_count": 26,
            "source": [
                "a = [1, 2, 3] # обьявление массива\n",
                "\n",
                "a[i] # обращение к элементу i массива a\n",
                "len(a) # длина массива а\n",
                "a.append(i) # добавить в конец массива а новый элемент i\n",
                "i = a.pop() # удаляет последний элемент массива, длина массива становится меньше на 1, удаленный элемент i возвращается\n",
                "a[i:j] # \"срез\". возвращает массив, состоящий из элементов оригинального массива с i по j элемент\n",
                "a.clear() # удаляет все элементы массива\n",
                "a.reverse() # разворачивает массив\n",
                "a.sort() # сортирует массив\n",
                "\n",
                "*a # *a -> 0, 1, 2 распаковка массива"
            ],
            "outputs": [
                {
                    "output_type": "error",
                    "ename": "IndexError",
                    "evalue": "list index out of range",
                    "traceback": [
                        "\u001b[0;31m---------------------------------------------------------------------------\u001b[0m",
                        "\u001b[0;31mIndexError\u001b[0m                                Traceback (most recent call last)",
                        "\u001b[0;32m/var/folders/2s/svnk3s1x7px1h0sclsv2hclr0000gn/T/ipykernel_5985/3004909012.py\u001b[0m in \u001b[0;36m<module>\u001b[0;34m\u001b[0m\n\u001b[1;32m      1\u001b[0m \u001b[0ma\u001b[0m \u001b[0;34m=\u001b[0m \u001b[0;34m[\u001b[0m\u001b[0;36m1\u001b[0m\u001b[0;34m,\u001b[0m \u001b[0;36m2\u001b[0m\u001b[0;34m,\u001b[0m \u001b[0;36m3\u001b[0m\u001b[0;34m]\u001b[0m \u001b[0;31m# обьявление массива\u001b[0m\u001b[0;34m\u001b[0m\u001b[0;34m\u001b[0m\u001b[0m\n\u001b[1;32m      2\u001b[0m \u001b[0;34m\u001b[0m\u001b[0m\n\u001b[0;32m----> 3\u001b[0;31m \u001b[0ma\u001b[0m\u001b[0;34m[\u001b[0m\u001b[0mi\u001b[0m\u001b[0;34m]\u001b[0m \u001b[0;31m# обращение к элементу i массива a\u001b[0m\u001b[0;34m\u001b[0m\u001b[0;34m\u001b[0m\u001b[0m\n\u001b[0m\u001b[1;32m      4\u001b[0m \u001b[0mlen\u001b[0m\u001b[0;34m(\u001b[0m\u001b[0ma\u001b[0m\u001b[0;34m)\u001b[0m \u001b[0;31m# длина массива а\u001b[0m\u001b[0;34m\u001b[0m\u001b[0;34m\u001b[0m\u001b[0m\n\u001b[1;32m      5\u001b[0m \u001b[0ma\u001b[0m\u001b[0;34m.\u001b[0m\u001b[0mappend\u001b[0m\u001b[0;34m(\u001b[0m\u001b[0mi\u001b[0m\u001b[0;34m)\u001b[0m \u001b[0;31m# добавить в конец массива а новый элемент i\u001b[0m\u001b[0;34m\u001b[0m\u001b[0;34m\u001b[0m\u001b[0m\n",
                        "\u001b[0;31mIndexError\u001b[0m: list index out of range"
                    ]
                }
            ],
            "metadata": {}
        },
        {
            "cell_type": "code",
            "execution_count": null,
            "source": [
                "top_10_numbers = [10, 9, 8, 7, 6, 5, 4, 3, 2, 1]\n",
                "\n",
                "top_10_numbers[0] # 10\n",
                "top_10_numbers[2] + top_10_numbers[3] # 15\n",
                "top_10_numbers[10] # IndexError: list index out of range"
            ],
            "outputs": [],
            "metadata": {}
        },
        {
            "cell_type": "code",
            "execution_count": null,
            "source": [
                "my_cats = ['барсик', 'персик', 'пушок']\n",
                "\n",
                "cat = my_cats[0] # 'барсик'\n",
                "cat[2] # 'р'"
            ],
            "outputs": [],
            "metadata": {}
        },
        {
            "cell_type": "markdown",
            "source": [
                "# Уникальные числа\n",
                "проверьте, все ли числа в массиве уникальные\n"
            ],
            "metadata": {}
        },
        {
            "cell_type": "markdown",
            "source": [
                "# Времена года\n",
                "написать программу, которая будет получать число от 1-12 и возвращать название месяца"
            ],
            "metadata": {}
        },
        {
            "cell_type": "markdown",
            "source": [
                "# Кортежи"
            ],
            "metadata": {}
        },
        {
            "cell_type": "code",
            "execution_count": null,
            "source": [
                "my_tuple = (0, 1, 2)\n",
                "    \n",
                "*my_tuple # *my_tuple -> 0, 1, 2 распаковка кортежа"
            ],
            "outputs": [],
            "metadata": {}
        },
        {
            "cell_type": "markdown",
            "source": [
                "# Цикл for"
            ],
            "metadata": {}
        },
        {
            "cell_type": "code",
            "execution_count": null,
            "source": [
                "a = [1, 2, 3, 4]\n",
                "for i in a:\n",
                "    print(i)"
            ],
            "outputs": [],
            "metadata": {}
        },
        {
            "cell_type": "markdown",
            "source": [
                "# Прямоугольник\n",
                "нарисуйте прямоугольник с длиннами сторон n x m, используя циклы\n",
                "```\n",
                "#####\n",
                "#   #\n",
                "#   #\n",
                "#   #\n",
                "#####\n",
                "```"
            ],
            "metadata": {}
        },
        {
            "cell_type": "markdown",
            "source": [
                "# Елочка\n",
                "нарисуйте елочку с высотой h, используя циклы\n",
                "```\n",
                "   #\n",
                "  ###\n",
                " #####\n",
                "#######\n",
                "   #\n",
                "```"
            ],
            "metadata": {}
        },
        {
            "cell_type": "markdown",
            "source": [
                "# Простые числа\n",
                "напишите программу, которая проверяет, простое число, или нет?"
            ],
            "metadata": {}
        },
        {
            "cell_type": "markdown",
            "source": [
                "# Приведение типов"
            ],
            "metadata": {}
        },
        {
            "cell_type": "code",
            "execution_count": null,
            "source": [
                "str(123) # '123'\n",
                "int('123') # 123\n",
                "float('123') # 123.0\n",
                "float(123) # 123.0"
            ],
            "outputs": [],
            "metadata": {}
        },
        {
            "cell_type": "markdown",
            "source": [
                "# Строки"
            ],
            "metadata": {}
        },
        {
            "cell_type": "code",
            "execution_count": null,
            "source": [
                "s1 = 'Hello'\n",
                "s2 = 'world'\n",
                "\n",
                "s1 + s2 # 'Helloworld'\n",
                "s1 * 2 # 'HelloHello'\n",
                "len(s1) # 5\n",
                "s1[1] # 'e'\n",
                "s1[1:3] # 'ell'\n",
                "\n",
                "s1.upper() # 'HELLO'\n",
                "s1.lower() # 'hello'\n",
                "\n",
                "s3 = 'hi my name is ilya'\n",
                "s3.split(' ') # ['hi', 'my', 'name', 'is', 'ilya']\n"
            ],
            "outputs": [],
            "metadata": {}
        },
        {
            "cell_type": "markdown",
            "source": [
                "# Палиндром\n",
                "проверьте, является ли строка палиндромом?\n",
                "\n",
                "P.S: палиндром - слово, которое одинаково пишется в прямом и обратном порядке"
            ],
            "metadata": {}
        },
        {
            "cell_type": "markdown",
            "source": [
                "# Функции"
            ],
            "metadata": {}
        },
        {
            "cell_type": "code",
            "execution_count": null,
            "source": [
                "def my_mul(a: int, b: int) -> int:\n",
                "    return a * b\n",
                "\n",
                "my_mul(2, 4) # 8"
            ],
            "outputs": [],
            "metadata": {}
        },
        {
            "cell_type": "markdown",
            "source": [
                "# Рекурсия"
            ],
            "metadata": {}
        },
        {
            "cell_type": "code",
            "execution_count": 27,
            "source": [
                "def func(a):\n",
                "  print(a)\n",
                "  if a == 1:\n",
                "    return\n",
                "  else:\n",
                "    func(a // 2)\n",
                "\n",
                "func(23)"
            ],
            "outputs": [
                {
                    "output_type": "stream",
                    "name": "stdout",
                    "text": [
                        "23\n",
                        "11\n",
                        "5\n",
                        "2\n",
                        "1\n"
                    ]
                }
            ],
            "metadata": {}
        },
        {
            "cell_type": "markdown",
            "source": [
                "# Числа Фиббоначи\n",
                "выведите первые n ряда чисел Фиббоначи\n",
                "\n",
                "P.S: каждое следущее число явлется суммой двух предыдущих чисел"
            ],
            "metadata": {}
        },
        {
            "cell_type": "markdown",
            "source": [
                "# Треугольник Паскаля\n",
                "выведите n треугольника Паскаля\n",
                "\n",
                "P.S:\n",
                "```\n",
                "[1]\n",
                "[1, 1]\n",
                "[1, 2, 1]\n",
                "[1, 3, 3, 1]\n",
                "[1, 4, 6, 4, 1]\n",
                "[1, 5, 10, 10, 5, 1]\n",
                "...\n",
                "```"
            ],
            "metadata": {}
        },
        {
            "cell_type": "markdown",
            "source": [
                "# Завершение программы с помощью control + c"
            ],
            "metadata": {}
        },
        {
            "cell_type": "code",
            "execution_count": null,
            "source": [
                "import signal\n",
                "\n",
                "def quit(_, __):\n",
                "  print('quiting..')\n",
                "  exit(0)\n",
                "\n",
                "signal.signal(signal.SIGINT, quit)"
            ],
            "outputs": [],
            "metadata": {}
        },
        {
            "cell_type": "markdown",
            "source": [
                "# Работа с библиотеками"
            ],
            "metadata": {}
        },
        {
            "cell_type": "code",
            "execution_count": null,
            "source": [
                "import time\n",
                "\n",
                "time.sleep(1)\n",
                "\n",
                "# ИЛИ\n",
                "\n",
                "from time import sleep\n",
                "\n",
                "sleep(1)"
            ],
            "outputs": [],
            "metadata": {}
        },
        {
            "cell_type": "markdown",
            "source": [
                "# Подключение устройств к Raspberry Pi\n",
                "\n",
                "![Распиновка малины](./raspberry-pi-pinout.png)"
            ],
            "metadata": {}
        },
        {
            "cell_type": "markdown",
            "source": [
                "# Цвет в компьютере\n",
                "\n",
                "Существуют различные модели задания цвета, в том числе Red Green Blue и Hue Saturation Value\n",
                "\n",
                "от англ. Красный Зеленый Синий и Тон Насыщенность Значение\n",
                "\n",
                "![Цветовая модель](./colormodel.jpeg)"
            ],
            "metadata": {}
        },
        {
            "cell_type": "code",
            "execution_count": 4,
            "source": [
                "import colorsys\n",
                "\n",
                "rgb = (215, 127, 12)\n",
                "hsv = colorsys.rgb_to_hsv(*rgb)\n",
                "rgb = colorsys.hsv_to_rgb(*hsv)\n",
                "\n",
                "print(hsv)\n",
                "print(rgb)"
            ],
            "outputs": [
                {
                    "output_type": "stream",
                    "name": "stdout",
                    "text": [
                        "(0.8893229166666666, 0.5019607843137255, 255)\n",
                        "(255, 127.0, 211.99999999999997)\n"
                    ]
                }
            ],
            "metadata": {}
        },
        {
            "cell_type": "markdown",
            "source": [
                "# Взаимодействие с лампой"
            ],
            "metadata": {}
        },
        {
            "cell_type": "code",
            "execution_count": null,
            "source": [
                "import neopixel\n",
                "import board\n",
                "\n",
                "rings = 8\n",
                "pixels_in_ring = 7\n",
                "\n",
                "pixels = neopixel.NeoPixel(board.D18, pixels_in_ring * rings, auto_write=False)\n",
                "\n",
                "pixels[<номер светодиода от 0 до len(pixels) - 1>] = (<красный>, <зеленый>, <синий>)\n",
                "\n",
                "pixels.show()"
            ],
            "outputs": [],
            "metadata": {}
        },
        {
            "cell_type": "markdown",
            "source": [
                "# Светофор\n",
                "напишите программу, которая будет симулировать действия сфетофора. зеленый свет должен гореть 8 секунд, желтый 2, красный 10."
            ],
            "metadata": {}
        },
        {
            "cell_type": "markdown",
            "source": [
                "# Игровая лампа с RGB-подсветкой\n",
                "ну вы и так поняли\n",
                "\n",
                "два ядра три гига игровая видеокарта"
            ],
            "metadata": {}
        },
        {
            "cell_type": "markdown",
            "source": [
                "# Взаимодействие с датчиком дыхания"
            ],
            "metadata": {}
        },
        {
            "cell_type": "code",
            "execution_count": null,
            "source": [
                "from unior.connection import Connection\n",
                "\n",
                "conn = Connection('<мак адрес датчика>')\n",
                "\n",
                "# sudo bluetoothctl power on\n",
                "# bluetoothctl\n",
                "# scan on\n",
                "\n",
                "print(conn.value)\n",
                "\n",
                "conn.disconnect()"
            ],
            "outputs": [],
            "metadata": {}
        },
        {
            "cell_type": "markdown",
            "source": [
                "# Фазы дыхания\n",
                "напишите программу, которая будет делать лампу красной при вдохе и зеленой при выдыхе"
            ],
            "metadata": {}
        },
        {
            "cell_type": "markdown",
            "source": [
                "# Работа с файлами"
            ],
            "metadata": {}
        },
        {
            "cell_type": "code",
            "execution_count": null,
            "source": [
                "filename = 'data.json'\n",
                "mode = 'r'\n",
                "\n",
                "with open(filename, mode) as f:\n",
                "  for line in f.readlines():\n",
                "    print(line)\n",
                "\n",
                "# 'r' open for reading (default)\n",
                "# 'w' open for writing, truncating the file first\n",
                "# 'x' open for exclusive creation, failing if the file already exists\n",
                "# 'a' open for writing, appending to the end of the file if it exists\n",
                "# 'b' binary mode\n",
                "# 't' text mode (default)\n",
                "# '+' open for updating (reading and writing)\n",
                "\n"
            ],
            "outputs": [],
            "metadata": {}
        }
    ],
    "metadata": {
        "orig_nbformat": 4,
        "language_info": {
            "name": "python",
            "version": "3.9.7",
            "mimetype": "text/x-python",
            "codemirror_mode": {
                "name": "ipython",
                "version": 3
            },
            "pygments_lexer": "ipython3",
            "nbconvert_exporter": "python",
            "file_extension": ".py"
        },
        "kernelspec": {
            "name": "python3",
            "display_name": "Python 3.9.6 64-bit"
        },
        "interpreter": {
            "hash": "b0fa6594d8f4cbf19f97940f81e996739fb7646882a419484c72d19e05852a7e"
        }
    },
    "nbformat": 4,
    "nbformat_minor": 2
}
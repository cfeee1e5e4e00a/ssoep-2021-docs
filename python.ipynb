{
    "cells": [
        {
            "cell_type": "markdown",
            "source": [
                "# Язык программирования Python"
            ],
            "metadata": {}
        },
        {
            "cell_type": "markdown",
            "source": [
                "### Привет мир!"
            ],
            "metadata": {}
        },
        {
            "cell_type": "code",
            "execution_count": null,
            "source": [
                "print('привет мир!')"
            ],
            "outputs": [],
            "metadata": {}
        },
        {
            "cell_type": "markdown",
            "source": [
                "### Переменные и типы"
            ],
            "metadata": {}
        },
        {
            "cell_type": "code",
            "execution_count": null,
            "source": [
                "# переменные можно писать после знака решетки\n",
                "\n",
                "a = 1 # целочисленный тип\n",
                "greeting = 'hello' # строковый тип\n",
                "pi = 3.14 # тип числа с плавающей запятой\n",
                "is_we_hungry = True # булевый тип"
            ],
            "outputs": [],
            "metadata": {}
        },
        {
            "cell_type": "markdown",
            "source": [
                "### Арифметические операторы"
            ],
            "metadata": {}
        },
        {
            "cell_type": "code",
            "execution_count": null,
            "source": [
                "2 + 2 # = 4 сложение\n",
                "4 - 2 # = 2 вычитание\n",
                "6 * 2 # = 12 умножение\n",
                "3 / 4 # = 3.75 деление\n",
                "2 ** 3 # = 8 возвдение в степень\n",
                "4 // 3 # = 1 деление без остатка\n",
                "10 % 3 # = 1 деление по модулю (остаток от деления)\n",
                "4 % 3 # = 1\n",
                "10.5 % 3 # = 1.5"
            ],
            "outputs": [],
            "metadata": {}
        },
        {
            "cell_type": "markdown",
            "source": [
                "### Операторы присваивания"
            ],
            "metadata": {}
        },
        {
            "cell_type": "code",
            "execution_count": 5,
            "source": [
                "a = 1\n",
                "\n",
                "a += 5 # = 6\n",
                "a -= 3 # = 3\n",
                "a /= 3 # = 1.0\n",
                "a *= 8 # = 8.0\n",
                "a %= 3 # = 2.0\n",
                "a **= 3 # = 8.0\n",
                "a //= 3 # 8.0"
            ],
            "outputs": [],
            "metadata": {}
        },
        {
            "cell_type": "markdown",
            "source": [
                "### Конструкция if"
            ],
            "metadata": {}
        },
        {
            "cell_type": "code",
            "execution_count": null,
            "source": [
                "is_cat_black = True\n",
                "\n",
                "if (is_cat_black):\n",
                "  print('Cat is black')"
            ],
            "outputs": [],
            "metadata": {}
        },
        {
            "cell_type": "markdown",
            "source": [
                "### Конструкция if-else"
            ],
            "metadata": {}
        },
        {
            "cell_type": "code",
            "execution_count": null,
            "source": [
                "is_cat_black = True\n",
                "\n",
                "if (is_cat_black):\n",
                "  print('Cat is black')\n",
                "else:\n",
                "  print('Cat isn`t black')"
            ],
            "outputs": [],
            "metadata": {}
        },
        {
            "cell_type": "markdown",
            "source": [
                "### Операторы сравнения"
            ],
            "metadata": {}
        },
        {
            "cell_type": "code",
            "execution_count": null,
            "source": [
                "4 < 3 # = False больше\n",
                "4 > 3 # = True меньше\n",
                "4 <= 3 # = False меньше или равно\n",
                "4 >= 3 # = True больше или равно\n",
                "3 == 3 # = True сравнение ( a равно b )\n",
                "3 != 4 # = True инвертированое сравнение ( a не равно b )"
            ],
            "outputs": [],
            "metadata": {}
        },
        {
            "cell_type": "markdown",
            "source": [
                "### Логические операторы"
            ],
            "metadata": {}
        },
        {
            "cell_type": "code",
            "execution_count": null,
            "source": [
                "True and True # = True И - коньюкция\n",
                "True or False # = False ИЛИ = дизьюнкция\n",
                "not True # = False НЕ - инвертирование"
            ],
            "outputs": [],
            "metadata": {}
        },
        {
            "cell_type": "markdown",
            "source": [
                "### Конструция if-elif-else"
            ],
            "metadata": {}
        },
        {
            "cell_type": "code",
            "execution_count": 6,
            "source": [
                "cat_color = 'black'\n",
                "\n",
                "if (cat_color == 'black'):\n",
                "  print('Cat is black')\n",
                "elif (cat_color == 'brown'):\n",
                "  print('Cat is brown')\n",
                "else:\n",
                "  print('So strange cat!?')"
            ],
            "outputs": [
                {
                    "output_type": "stream",
                    "name": "stdout",
                    "text": [
                        "Cat is black\n"
                    ]
                }
            ],
            "metadata": {}
        },
        {
            "cell_type": "markdown",
            "source": [
                "### Цикл while"
            ],
            "metadata": {}
        },
        {
            "cell_type": "code",
            "execution_count": 1,
            "metadata": {},
            "outputs": [
                {
                    "output_type": "stream",
                    "name": "stdout",
                    "text": [
                        "10\n"
                    ]
                }
            ],
            "source": [
                "i = 0\n",
                "\n",
                "while i < 10:\n",
                "    i += 1\n",
                "\n",
                "print(i) # 10"
            ]
        },
        {
            "cell_type": "markdown",
            "source": [
                "### Массивы"
            ],
            "metadata": {}
        },
        {
            "cell_type": "code",
            "execution_count": null,
            "metadata": {},
            "outputs": [],
            "source": [
                "a = [1, 2, 3] # обьявление массива\n",
                "\n",
                "a[i] # обращение к элементу i массива a\n",
                "len(a) # длина массива а\n",
                "a.append(i) # добавить в конец массива а новый элемент i\n",
                "i = a.pop() # удаляет последний элемент массива, длина массива становится меньше на 1, удаленный элемент i возвращается\n",
                "a[i:j] # \"срез\". возвращает массив, состоящий из элементов оригинального массива с i по j элемент\n",
                "a.clear() # удаляет все элементы массива\n",
                "a.reverse() # разворачивает массив\n",
                "a.sort() # сортирует массив"
            ]
        },
        {
            "cell_type": "code",
            "execution_count": 4,
            "metadata": {},
            "outputs": [
                {
                    "output_type": "stream",
                    "name": "stdout",
                    "text": [
                        "10\n15\n"
                    ]
                },
                {
                    "output_type": "error",
                    "ename": "IndexError",
                    "evalue": "list index out of range",
                    "traceback": [
                        "\u001b[0;31m---------------------------------------------------------------------------\u001b[0m",
                        "\u001b[0;31mIndexError\u001b[0m                                Traceback (most recent call last)",
                        "\u001b[0;32m/var/folders/2s/svnk3s1x7px1h0sclsv2hclr0000gn/T/ipykernel_74762/2916686803.py\u001b[0m in \u001b[0;36m<module>\u001b[0;34m\u001b[0m\n\u001b[1;32m      3\u001b[0m \u001b[0mprint\u001b[0m\u001b[0;34m(\u001b[0m\u001b[0mtop_10_numbers\u001b[0m\u001b[0;34m[\u001b[0m\u001b[0;36m0\u001b[0m\u001b[0;34m]\u001b[0m\u001b[0;34m)\u001b[0m\u001b[0;34m\u001b[0m\u001b[0;34m\u001b[0m\u001b[0m\n\u001b[1;32m      4\u001b[0m \u001b[0mprint\u001b[0m\u001b[0;34m(\u001b[0m\u001b[0mtop_10_numbers\u001b[0m\u001b[0;34m[\u001b[0m\u001b[0;36m2\u001b[0m\u001b[0;34m]\u001b[0m \u001b[0;34m+\u001b[0m \u001b[0mtop_10_numbers\u001b[0m\u001b[0;34m[\u001b[0m\u001b[0;36m3\u001b[0m\u001b[0;34m]\u001b[0m\u001b[0;34m)\u001b[0m\u001b[0;34m\u001b[0m\u001b[0;34m\u001b[0m\u001b[0m\n\u001b[0;32m----> 5\u001b[0;31m \u001b[0mprint\u001b[0m\u001b[0;34m(\u001b[0m\u001b[0mtop_10_numbers\u001b[0m\u001b[0;34m[\u001b[0m\u001b[0;36m10\u001b[0m\u001b[0;34m]\u001b[0m\u001b[0;34m)\u001b[0m\u001b[0;34m\u001b[0m\u001b[0;34m\u001b[0m\u001b[0m\n\u001b[0m",
                        "\u001b[0;31mIndexError\u001b[0m: list index out of range"
                    ]
                }
            ],
            "source": [
                "top_10_numbers = [10, 9, 8, 7, 6, 5, 4, 3, 2, 1]\n",
                "\n",
                "top_10_numbers[0] # 10\n",
                "top_10_numbers[2] + top_10_numbers[3] # 15\n",
                "top_10_numbers[10] # IndexError: list index out of range"
            ]
        },
        {
            "cell_type": "code",
            "execution_count": 8,
            "metadata": {},
            "outputs": [
                {
                    "output_type": "execute_result",
                    "data": {
                        "text/plain": [
                            "'р'"
                        ]
                    },
                    "metadata": {},
                    "execution_count": 8
                }
            ],
            "source": [
                "my_cats = ['барсик', 'персик', 'пушок']\n",
                "\n",
                "cat = my_cats[0] # 'барсик'\n",
                "cat[2] # 'р'"
            ]
        },
        {
            "source": [
                "### Цикл for"
            ],
            "cell_type": "markdown",
            "metadata": {}
        },
        {
            "cell_type": "code",
            "execution_count": 9,
            "metadata": {},
            "outputs": [
                {
                    "output_type": "stream",
                    "name": "stdout",
                    "text": [
                        "1\n2\n3\n4\n"
                    ]
                }
            ],
            "source": [
                "a = [1, 2, 3, 4]\n",
                "for i in a:\n",
                "    print(i)"
            ]
        }
    ],
    "metadata": {
        "orig_nbformat": 4,
        "language_info": {
            "name": "python",
            "version": "3.9.6",
            "mimetype": "text/x-python",
            "codemirror_mode": {
                "name": "ipython",
                "version": 3
            },
            "pygments_lexer": "ipython3",
            "nbconvert_exporter": "python",
            "file_extension": ".py"
        },
        "kernelspec": {
            "name": "python3",
            "display_name": "Python 3.9.6 64-bit"
        },
        "interpreter": {
            "hash": "b0fa6594d8f4cbf19f97940f81e996739fb7646882a419484c72d19e05852a7e"
        }
    },
    "nbformat": 4,
    "nbformat_minor": 2
}